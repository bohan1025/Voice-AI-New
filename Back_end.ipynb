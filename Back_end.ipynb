{
 "cells": [
  {
   "cell_type": "markdown",
   "metadata": {},
   "source": [
    "## Back End in one\n",
    "这个仅仅是本地测试：拿到音频-> 提取信息 -> 在数据库里找数据 -> 给客户返回数据（前端）-> 上传Azure 数据库"
   ]
  },
  {
   "cell_type": "code",
   "execution_count": 1,
   "metadata": {},
   "outputs": [],
   "source": [
    "# 接收前端音频\n",
    "# Connection part\n",
    "from fastapi import FastAPI, File, UploadFile\n",
    "\n",
    "app = FastAPI()\n",
    "\n",
    "@app.post(\"/upload_audio\")\n",
    "async def upload_audio(file: UploadFile = File(...)):\n",
    "    with open(\"test1.wav\", \"wb\") as f:\n",
    "        f.write(await file.read())\n",
    "    return {\"msg\": \"Audio uploaded successfully\"}\n"
   ]
  },
  {
   "cell_type": "code",
   "execution_count": 2,
   "metadata": {},
   "outputs": [
    {
     "name": "stderr",
     "output_type": "stream",
     "text": [
      "/opt/homebrew/lib/python3.11/site-packages/whisper/transcribe.py:132: UserWarning: FP16 is not supported on CPU; using FP32 instead\n",
      "  warnings.warn(\"FP16 is not supported on CPU; using FP32 instead\")\n"
     ]
    },
    {
     "name": "stdout",
     "output_type": "stream",
     "text": [
      " Hi my name is Harry my phone number is 0434 322 781 I want to inspect a property at Flinders Street Melbourne thank you\n"
     ]
    }
   ],
   "source": [
    "# Part 1: Audio to Text\n",
    "# 这里需要接收前端音频 来load他们接受的音频转文本\n",
    "# 用的Whisper\n",
    "import whisper\n",
    "\n",
    "model = whisper.load_model(\"base\")\n",
    "\n",
    "def speech_to_text(audio_path):\n",
    "    result = model.transcribe(audio_path, language='en')  # or 'zh' for Chinese\n",
    "    return result['text']\n",
    "test1 = speech_to_text(\n",
    "    'test2.wav'\n",
    ")\n",
    "print(test1)"
   ]
  },
  {
   "cell_type": "code",
   "execution_count": 3,
   "metadata": {},
   "outputs": [
    {
     "name": "stdout",
     "output_type": "stream",
     "text": [
      " Hi my name is Harry my phone number is 0434 322 781 I want to inspect a property at Flinders Street Melbourne thank you\n",
      "{'name': 'Harry', 'phone': '0434 322 781', 'address': 'Flinders Street Melbourne'}\n"
     ]
    }
   ],
   "source": [
    "# 用Azure open AI做关键字提取，现在resource里创建一个ai，然后在azure portal里面为ai选择 engine\n",
    "# Part 2:Extract the information from the text\n",
    "import openai\n",
    "import json\n",
    "\n",
    "openai.api_type = \"azure\"\n",
    "openai.api_key = \"mSSedelOpALeOCyKP4ssEipRpAkgAZz3v1kTIHBSGnrJqprIo349JQQJ99BGACL93NaXJ3w3AAABACOGf4ui\" # API Key\n",
    "openai.api_base = \"https://aivoicetest.openai.azure.com/\" # API Endpoint\n",
    "openai.api_version = \"2024-02-15-preview\"   # \n",
    "\n",
    "# Train Azure AI and letting it extract the information\n",
    "def extract_info(text):\n",
    "    prompt = (\n",
    "    \"Extract the client's name, phone number, and property address from the text below. \"\n",
    "    \"Return ONLY a JSON object (no extra text, no explanations, no code block).\\n\"\n",
    "    f\"Text: {text}\\n\"\n",
    "    \"Example output: {\\\"name\\\": \\\"Kevin Su\\\", \\\"phone\\\": \\\"0402662860\\\", \\\"address\\\": \\\"101/25-33 Wills Street Melbourne VIC 3000\\\"}\"\n",
    ")\n",
    "\n",
    "    resp = openai.ChatCompletion.create(\n",
    "        engine= \"gpt4o_voicebot\",   \n",
    "        messages=[{\"role\": \"user\", \"content\": prompt}],\n",
    "        temperature=0\n",
    "    )\n",
    "    try:\n",
    "        info = json.loads(resp.choices[0].message['content'])\n",
    "    except:\n",
    "        info = {}\n",
    "    return info\n",
    "\n",
    "test2 = extract_info(test1)\n",
    "address = test2['address']\n",
    "print(test1)\n",
    "print(test2)\n",
    "\n",
    "\n",
    "# Success"
   ]
  },
  {
   "cell_type": "code",
   "execution_count": 4,
   "metadata": {},
   "outputs": [
    {
     "name": "stdout",
     "output_type": "stream",
     "text": [
      "('1106/555 Flinders Street Melbourne VIC 3000', 'Apartment / Unit / Flat', 2023, '[-37.8209711, 144.9564827]', 3000, None, 'Melbourne', 1.0, 1.0, None, 129324.0, 47744.20000000007, 1.4, 3.2, 1.1, 2.9, '370.0', 4.0, 3000.0, \"['Melbourne']\")\n"
     ]
    }
   ],
   "source": [
    "# 在数据库里面找到符合条件的房源然后上传\n",
    "import pyodbc\n",
    "\n",
    "def query_property_azure(address):\n",
    "    conn = pyodbc.connect(\n",
    "        \"DRIVER={ODBC Driver 18 for SQL Server};\"\n",
    "        \"SERVER=voiceai-sql-server.database.windows.net;\"\n",
    "        \"DATABASE=RealEstateConvoAI;\"\n",
    "        \"UID=lorraine;\"\n",
    "        \"PWD=Test123!Temp;\"\n",
    "        \"Encrypt=yes;\"\n",
    "        \"TrustServerCertificate=no;\"\n",
    "        \"Connection Timeout=30;\"\n",
    "    )\n",
    "    cursor = conn.cursor()\n",
    "# check and find whether you have any matched data in the data base\n",
    "    cursor.execute(\"SELECT * FROM [House_Data] WHERE [name] LIKE ?\", ('%' + address + '%',))\n",
    "    result = cursor.fetchone()\n",
    "    return result if result else \"Not found\"\n",
    "\n",
    "# address = \"Spencer Street Melbourne\"   用上面的address\n",
    "result = query_property_azure(address)\n",
    "print(result)\n",
    "# Success"
   ]
  },
  {
   "cell_type": "markdown",
   "metadata": {},
   "source": [
    "## 这里有一个问题就是not found后面要说其他反馈的话"
   ]
  },
  {
   "cell_type": "code",
   "execution_count": 5,
   "metadata": {},
   "outputs": [
    {
     "name": "stdout",
     "output_type": "stream",
     "text": [
      "Below is the best matched property for your search:\n",
      "Address: 1106/555 Flinders Street Melbourne VIC 3000\n",
      "Type: Apartment / Unit / Flat\n",
      "Year built: 2023, Region: 3000.0\n",
      "Rooms: 1.0 bed(s), 1.0 bath(s), None car space(s)\n",
      "Weekly rent: $370.0\n",
      "Located near Melbourne, Postcode: 3000.\n",
      "For more details, please contact us!\n"
     ]
    }
   ],
   "source": [
    "def property_summary(row):\n",
    "    if not row:\n",
    "        return \"Sorry, no matching property found.\"\n",
    "    return (\n",
    "        f\"Below is the best matched property for your search:\\n\"\n",
    "        f\"Address: {row[0]}\\n\"\n",
    "        f\"Type: {row[1]}\\n\"\n",
    "        f\"Year built: {row[2]}, Region: {row[18]}\\n\"\n",
    "        f\"Rooms: {row[7]} bed(s), {row[8]} bath(s), {row[9]} car space(s)\\n\"\n",
    "        f\"Weekly rent: ${row[16]}\\n\"\n",
    "        f\"Located near {row[6]}, Postcode: {row[4]}.\\n\"\n",
    "        f\"For more details, please contact us!\"\n",
    "    )\n",
    "response = property_summary(result)\n",
    "print(response)"
   ]
  },
  {
   "cell_type": "code",
   "execution_count": 9,
   "metadata": {},
   "outputs": [
    {
     "data": {
      "text/plain": [
       "'result.mp3'"
      ]
     },
     "execution_count": 9,
     "metadata": {},
     "output_type": "execute_result"
    }
   ],
   "source": [
    "# Part 4: Convert the information into audio\n",
    "# This part need to connect to the front end\n",
    "# 这个应该是把提取到的房地产信息转化成音频 音频的名字叫做out_file\n",
    "from gtts import gTTS\n",
    "\n",
    "def text_to_speech(text, out_file=\"result.mp3\"):\n",
    "    tts = gTTS(text, lang=\"en\")\n",
    "    tts.save(out_file)\n",
    "    return out_file\n",
    "\n",
    "text_to_speech(response, \"result.mp3\")\n",
    "# Success\n"
   ]
  },
  {
   "cell_type": "code",
   "execution_count": 7,
   "metadata": {},
   "outputs": [],
   "source": [
    "# Updating the information into Azure SQL\n",
    "import pyodbc\n",
    "# 这里的data应该是test2 里面的内容 \n",
    "def upload_to_azure_sql(data):\n",
    "    conn = pyodbc.connect(\n",
    "    \"DRIVER={ODBC Driver 18 for SQL Server};\"\n",
    "    \"SERVER=voiceai-sql-server.database.windows.net;\"\n",
    "    \"DATABASE=RealEstateConvoAI;\"\n",
    "    \"UID=lorraine;\"\n",
    "    \"PWD=Test123!Temp;\"\n",
    ")\n",
    "    cursor = conn.cursor()\n",
    "    cursor.execute(\n",
    "        \"INSERT INTO Customer_Table (name, phone, address) VALUES (?, ?, ?)\",\n",
    "        data[\"name\"], data[\"phone\"], data[\"address\"]\n",
    "    )\n",
    "    conn.commit()\n",
    "    conn.close()\n",
    "upload_to_azure_sql(test2)"
   ]
  },
  {
   "cell_type": "markdown",
   "metadata": {},
   "source": [
    "## 现阶段已经完成本地测试了 需要做的就是END TO END连接；\n",
    "比如说流程上的优化 Voice cancellation这种\n",
    "采集客户的各类信息 匹配的房源 这类"
   ]
  }
 ],
 "metadata": {
  "kernelspec": {
   "display_name": "Python 3",
   "language": "python",
   "name": "python3"
  },
  "language_info": {
   "codemirror_mode": {
    "name": "ipython",
    "version": 3
   },
   "file_extension": ".py",
   "mimetype": "text/x-python",
   "name": "python",
   "nbconvert_exporter": "python",
   "pygments_lexer": "ipython3",
   "version": "3.11.5"
  }
 },
 "nbformat": 4,
 "nbformat_minor": 2
}
