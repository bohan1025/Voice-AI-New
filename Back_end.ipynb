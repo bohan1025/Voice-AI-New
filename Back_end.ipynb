{
 "cells": [
  {
   "cell_type": "markdown",
   "metadata": {},
   "source": [
    "## Back End in one\n",
    "这个仅仅是本地测试：拿到音频-> 提取信息 -> 在数据库里找数据 -> 给客户返回数据（前端）-> 上传Azure 数据库"
   ]
  },
  {
   "cell_type": "code",
   "execution_count": 1,
   "metadata": {},
   "outputs": [],
   "source": [
    "# 接收前端音频\n",
    "# Connection part\n",
    "from fastapi import FastAPI, File, UploadFile\n",
    "\n",
    "app = FastAPI()\n",
    "\n",
    "@app.post(\"/upload_audio\")\n",
    "async def upload_audio(file: UploadFile = File(...)):\n",
    "    with open(\"test1.wav\", \"wb\") as f:\n",
    "        f.write(await file.read())\n",
    "    return {\"msg\": \"Audio uploaded successfully\"}\n"
   ]
  },
  {
   "cell_type": "code",
   "execution_count": 2,
   "metadata": {},
   "outputs": [
    {
     "name": "stderr",
     "output_type": "stream",
     "text": [
      "/opt/homebrew/lib/python3.11/site-packages/whisper/transcribe.py:132: UserWarning: FP16 is not supported on CPU; using FP32 instead\n",
      "  warnings.warn(\"FP16 is not supported on CPU; using FP32 instead\")\n"
     ]
    },
    {
     "name": "stdout",
     "output_type": "stream",
     "text": [
      " Hi, my name is Lorraine. My phone number is 0435 122 896. I want to inspect the property located at Spencer Street Melbourne.\n"
     ]
    }
   ],
   "source": [
    "# Part 1: Audio to Text\n",
    "# 这里需要接收前端音频 来load他们接受的音频转文本\n",
    "# 用的Whisper\n",
    "import whisper\n",
    "\n",
    "model = whisper.load_model(\"base\")\n",
    "\n",
    "def speech_to_text(audio_path=\"test1.wav\"):\n",
    "    result = model.transcribe(audio_path, language='en')  # or 'zh' for Chinese\n",
    "    return result['text']\n",
    "test1 = speech_to_text(\n",
    "    'test1.wav'\n",
    ")\n",
    "print(test1)"
   ]
  },
  {
   "cell_type": "code",
   "execution_count": 3,
   "metadata": {},
   "outputs": [
    {
     "name": "stdout",
     "output_type": "stream",
     "text": [
      " Hi, my name is Lorraine. My phone number is 0435 122 896. I want to inspect the property located at Spencer Street Melbourne.\n",
      "{'name': 'Lorraine', 'phone': '0435 122 896', 'address': 'Spencer Street Melbourne'}\n"
     ]
    }
   ],
   "source": [
    "# 用Azure open AI做关键字提取，现在resource里创建一个ai，然后在azure portal里面为ai选择 engine\n",
    "# Part 2:Extract the information from the text\n",
    "import openai\n",
    "import json\n",
    "\n",
    "openai.api_type = \"azure\"\n",
    "openai.api_key = \"mSSedelOpALeOCyKP4ssEipRpAkgAZz3v1kTIHBSGnrJqprIo349JQQJ99BGACL93NaXJ3w3AAABACOGf4ui\" # API Key\n",
    "openai.api_base = \"https://aivoicetest.openai.azure.com/\" # API Endpoint\n",
    "openai.api_version = \"2024-02-15-preview\"   # \n",
    "\n",
    "# Train Azure AI and letting it extract the information\n",
    "def extract_info(text):\n",
    "    prompt = (\n",
    "    \"Extract the client's name, phone number, and property address from the text below. \"\n",
    "    \"Return ONLY a JSON object (no extra text, no explanations, no code block).\\n\"\n",
    "    f\"Text: {text}\\n\"\n",
    "    \"Example output: {\\\"name\\\": \\\"Kevin Su\\\", \\\"phone\\\": \\\"0402662860\\\", \\\"address\\\": \\\"101/25-33 Wills Street Melbourne VIC 3000\\\"}\"\n",
    ")\n",
    "\n",
    "    resp = openai.ChatCompletion.create(\n",
    "        engine= \"gpt4o_voicebot\",   \n",
    "        messages=[{\"role\": \"user\", \"content\": prompt}],\n",
    "        temperature=0\n",
    "    )\n",
    "    try:\n",
    "        info = json.loads(resp.choices[0].message['content'])\n",
    "    except:\n",
    "        info = {}\n",
    "    return info\n",
    "\n",
    "test2 = extract_info(test1)\n",
    "address = test2['address']\n",
    "print(test1)\n",
    "print(test2)\n",
    "\n",
    "\n",
    "# Success"
   ]
  },
  {
   "cell_type": "code",
   "execution_count": null,
   "metadata": {},
   "outputs": [
    {
     "name": "stdout",
     "output_type": "stream",
     "text": [
      "name: max length = 50\n",
      "property_type: max length = 23\n",
      "coordinates: max length = 26\n",
      "closest_sa2: max length = 9\n",
      "car: max length = 4\n",
      "week_rent: max length = 6\n",
      "sa2_region: max length = 13\n",
      "所有数据已成功导入 Azure SQL！\n"
     ]
    }
   ],
   "source": [
    "# 只用执行一次 上传数据\n",
    "import pandas as pd\n",
    "import numpy as np\n",
    "import pyodbc\n",
    "\n",
    "df = pd.read_csv(\"House_Data.csv\")\n",
    "if 'Unnamed: 0' in df.columns:\n",
    "    df = df.drop(columns=['Unnamed: 0'])\n",
    "if 'sa2_coor' in df.columns:\n",
    "    df = df.drop(columns=['sa2_coor'])\n",
    "\n",
    "\n",
    "# Edit all the missing or NAN value\n",
    "for col, dtype in df.dtypes.items():\n",
    "    if dtype in ['float64', 'int64']:\n",
    "        df[col] = pd.to_numeric(df[col], errors='coerce')  # 非数字自动变为NaN\n",
    "\n",
    "df = df.replace({np.nan: None})\n",
    "\n",
    "# Connecting the Azure SQL database\n",
    "conn_str = (\n",
    "    \"DRIVER={ODBC Driver 18 for SQL Server};\"\n",
    "    \"SERVER=voiceai-sql-server.database.windows.net;\"\n",
    "    \"DATABASE=RealEstateConvoAI;\"\n",
    "    \"UID=lorraine;\"\n",
    "    \"PWD=Test123!Temp;\"\n",
    "    \"Encrypt=yes;\"\n",
    "    \"TrustServerCertificate=no;\"\n",
    "    \"Connection Timeout=30;\"\n",
    ")\n",
    "conn = pyodbc.connect(conn_str)\n",
    "cursor = conn.cursor()\n",
    "\n",
    "columns = df.columns.tolist()\n",
    "col_str = ','.join([f'[{col}]' for col in columns])\n",
    "placeholders = ','.join(['?'] * len(columns))\n",
    "insert_sql = f\"INSERT INTO [House_Data] ({col_str}) VALUES ({placeholders})\"\n",
    "for col in df.columns:\n",
    "    if df[col].dtype == 'object':\n",
    "        print(f\"{col}: max length = {df[col].astype(str).map(len).max()}\")\n",
    "\n",
    "try:\n",
    "    cursor.fast_executemany = True\n",
    "    cursor.executemany(insert_sql, df.values.tolist())\n",
    "    conn.commit()\n",
    "    print(\"All data has been upload onto Azure SQL\")\n",
    "except Exception as e:\n",
    "    print(\"Upload wrong\", e)\n",
    "finally:\n",
    "    cursor.close()\n",
    "    conn.close()\n"
   ]
  },
  {
   "cell_type": "code",
   "execution_count": 20,
   "metadata": {},
   "outputs": [
    {
     "name": "stdout",
     "output_type": "stream",
     "text": [
      "('1211/200 Spencer Street Melbourne VIC 3000', 'Apartment / Unit / Flat', 2023, '[-37.816228, 144.9532465]', 3000, None, 'Melbourne', 1.0, 1.0, 1.0, 129324.0, 47744.20000000007, 0.8, 1.8, 1.4, 2.4, '480.0', 4.0, 3000.0, \"['Melbourne']\")\n"
     ]
    }
   ],
   "source": [
    "# 在数据库里面找到符合条件的房源然后上传\n",
    "import pyodbc\n",
    "\n",
    "def query_property_azure(address):\n",
    "    conn = pyodbc.connect(\n",
    "        \"DRIVER={ODBC Driver 18 for SQL Server};\"\n",
    "        \"SERVER=voiceai-sql-server.database.windows.net;\"\n",
    "        \"DATABASE=RealEstateConvoAI;\"\n",
    "        \"UID=lorraine;\"\n",
    "        \"PWD=Test123!Temp;\"\n",
    "        \"Encrypt=yes;\"\n",
    "        \"TrustServerCertificate=no;\"\n",
    "        \"Connection Timeout=30;\"\n",
    "    )\n",
    "    cursor = conn.cursor()\n",
    "# check and find whether you have any matched data in the data base\n",
    "    cursor.execute(\"SELECT * FROM [House_Data] WHERE [name] LIKE ?\", ('%' + address + '%',))\n",
    "    result = cursor.fetchone()\n",
    "    return result if result else \"Not found\"\n",
    "\n",
    "# address = \"Spencer Street Melbourne\"   用上面的address\n",
    "result = query_property_azure(address)\n",
    "print(result)\n",
    "# Success"
   ]
  },
  {
   "cell_type": "code",
   "execution_count": 23,
   "metadata": {},
   "outputs": [
    {
     "name": "stdout",
     "output_type": "stream",
     "text": [
      "Below is the best matched property for your search:\n",
      "Address: 1211/200 Spencer Street Melbourne VIC 3000\n",
      "Type: Apartment / Unit / Flat\n",
      "Year built: 2023, Region: 3000.0\n",
      "Rooms: 1.0 bed(s), 1.0 bath(s), 1.0 car space(s)\n",
      "Weekly rent: $480.0\n",
      "Located near Melbourne, Postcode: 3000.\n",
      "For more details, please contact us!\n"
     ]
    }
   ],
   "source": [
    "def property_summary(row):\n",
    "    if not row:\n",
    "        return \"Sorry, no matching property found.\"\n",
    "    return (\n",
    "        f\"Below is the best matched property for your search:\\n\"\n",
    "        f\"Address: {row[0]}\\n\"\n",
    "        f\"Type: {row[1]}\\n\"\n",
    "        f\"Year built: {row[2]}, Region: {row[18]}\\n\"\n",
    "        f\"Rooms: {row[7]} bed(s), {row[8]} bath(s), {row[9]} car space(s)\\n\"\n",
    "        f\"Weekly rent: ${row[16]}\\n\"\n",
    "        f\"Located near {row[6]}, Postcode: {row[4]}.\\n\"\n",
    "        f\"For more details, please contact us!\"\n",
    "    )\n",
    "response = property_summary(result)\n",
    "print(response)"
   ]
  },
  {
   "cell_type": "code",
   "execution_count": null,
   "metadata": {},
   "outputs": [],
   "source": [
    "# Part 4: Convert the information into audio\n",
    "# This part need to connect to the front end\n",
    "# 这个应该是把提取到的房地产信息转化成音频 音频的名字叫做out_file\n",
    "import pyttsx3\n",
    "def text_to_speech(text, out_file=\"result.wav\"):\n",
    "    engine = pyttsx3.init()\n",
    "    engine.save_to_file(text, out_file)\n",
    "    engine.runAndWait()\n",
    "    return out_file\n",
    "text_to_speech(response)"
   ]
  },
  {
   "cell_type": "code",
   "execution_count": 24,
   "metadata": {},
   "outputs": [
    {
     "name": "stdout",
     "output_type": "stream",
     "text": [
      "Customer_Table 已在 Azure SQL 创建完成！\n"
     ]
    }
   ],
   "source": [
    "# Create a customer information table\n",
    "import pyodbc\n",
    "\n",
    "conn = pyodbc.connect(\n",
    "    \"DRIVER={ODBC Driver 18 for SQL Server};\"\n",
    "    \"SERVER=voiceai-sql-server.database.windows.net;\"\n",
    "    \"DATABASE=RealEstateConvoAI;\"\n",
    "    \"UID=lorraine;\"\n",
    "    \"PWD=Test123!Temp;\"\n",
    ")\n",
    "cursor = conn.cursor()\n",
    "\n",
    "# 写好 CREATE TABLE 语句（如果已存在先删掉，可选）\n",
    "cursor.execute(\"IF OBJECT_ID('Customer_Table', 'U') IS NOT NULL DROP TABLE Customer_Table;\")\n",
    "\n",
    "create_sql = \"\"\"\n",
    "CREATE TABLE Customer_Table (\n",
    "    id INT IDENTITY(1,1) PRIMARY KEY,\n",
    "    name NVARCHAR(100),\n",
    "    phone NVARCHAR(30),\n",
    "    address NVARCHAR(300),\n",
    "    created_at DATETIME DEFAULT GETDATE()\n",
    ")\n",
    "\"\"\"\n",
    "cursor.execute(create_sql)\n",
    "conn.commit()\n",
    "cursor.close()\n",
    "conn.close()\n",
    "\n",
    "print(\"Customer_Table created\")\n"
   ]
  },
  {
   "cell_type": "code",
   "execution_count": 29,
   "metadata": {},
   "outputs": [],
   "source": [
    "# Updating the information into Azure SQL\n",
    "import pyodbc\n",
    "# 这里的data应该是test2 里面的内容 \n",
    "def upload_to_azure_sql(data):\n",
    "    conn = pyodbc.connect(\n",
    "    \"DRIVER={ODBC Driver 18 for SQL Server};\"\n",
    "    \"SERVER=voiceai-sql-server.database.windows.net;\"\n",
    "    \"DATABASE=RealEstateConvoAI;\"\n",
    "    \"UID=lorraine;\"\n",
    "    \"PWD=Test123!Temp;\"\n",
    ")\n",
    "    cursor = conn.cursor()\n",
    "    cursor.execute(\n",
    "        \"INSERT INTO Customer_Table (name, phone, address) VALUES (?, ?, ?)\",\n",
    "        data[\"name\"], data[\"phone\"], data[\"address\"]\n",
    "    )\n",
    "    conn.commit()\n",
    "    conn.close()\n",
    "upload_to_azure_sql(test2)"
   ]
  },
  {
   "cell_type": "markdown",
   "metadata": {},
   "source": [
    "## 现阶段已经完成本地测试了 需要做的就是END TO END连接；"
   ]
  },
  {
   "cell_type": "markdown",
   "metadata": {},
   "source": []
  }
 ],
 "metadata": {
  "kernelspec": {
   "display_name": "Python 3",
   "language": "python",
   "name": "python3"
  },
  "language_info": {
   "codemirror_mode": {
    "name": "ipython",
    "version": 3
   },
   "file_extension": ".py",
   "mimetype": "text/x-python",
   "name": "python",
   "nbconvert_exporter": "python",
   "pygments_lexer": "ipython3",
   "version": "3.11.5"
  }
 },
 "nbformat": 4,
 "nbformat_minor": 2
}
